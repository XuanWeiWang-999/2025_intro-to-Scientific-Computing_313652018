{
 "cells": [
  {
   "cell_type": "markdown",
   "id": "a7978975",
   "metadata": {},
   "source": [
    "## Exercise 2 — Barycentric Weights for Chebyshev Points of the Second Kind\n",
    "\n",
    "We want to show that, for $n+1$ Chebyshev points of the second kind\n",
    "$$\n",
    "x_j = \\cos\\!\\left(\\frac{j\\pi}{n}\\right), \\quad j=0,\\dots,n,\n",
    "$$\n",
    "the barycentric weights (after rescaling) are\n",
    "$$\n",
    "w_i = (-1)^i, \\quad i=1,\\dots,n-1,\n",
    "\\qquad\n",
    "w_0 = \\tfrac{1}{2}, \\quad w_n = \\tfrac{(-1)^n}{2}.\n",
    "$$\n",
    "\n",
    "---\n",
    "\n",
    "### Definition of barycentric weights\n",
    "By definition,\n",
    "$$\n",
    "w_k = \\frac{1}{\\prod_{\\substack{j=0 \\\\ j\\neq k}}^n (x_k - x_j)}.\n",
    "$$\n",
    "\n",
    "\n"
   ]
  },
  {
   "cell_type": "markdown",
   "id": "b148f685",
   "metadata": {},
   "source": [
    "---\n",
    "\n",
    "The Chebyshev points are $x_j = \\cos\\!\\left(\\tfrac{j\\pi}{n}\\right)$.  \n",
    "We compute the difference:\n",
    "$$\n",
    "\\cos\\!\\left(\\tfrac{k\\pi}{n}\\right) - \\cos\\!\\left(\\tfrac{j\\pi}{n}\\right)\n",
    "= -2\\sin\\!\\left(\\tfrac{(k+j)\\pi}{2n}\\right)\\sin\\!\\left(\\tfrac{(k-j)\\pi}{2n}\\right).\n",
    "$$\n",
    "\n",
    "Therefore,\n",
    "$$\n",
    "w_k = \\frac{1}{\\prod_{j\\neq k} (x_k - x_j)}\n",
    "= \\frac{1}{\\prod_{j\\neq k}\\big(-2\\sin(\\tfrac{(k+j)\\pi}{2n})\\sin(\\tfrac{(k-j)\\pi}{2n})\\big)}.\n",
    "$$\n",
    "\n",
    "---"
   ]
  },
  {
   "cell_type": "markdown",
   "id": "8c4605bb",
   "metadata": {},
   "source": [
    "\n",
    "\n",
    "First, we denote that \n",
    "$$\n",
    "\\prod_{\\substack{j=0 \\\\ j\\neq k}}^{n}\\sin(\\frac{(k+j)}{2n}\\pi)=\\frac{\\displaystyle\\prod_{m=k}^{k+n}\\sin(\\frac{m\\pi}{2n})}{\\sin(\\frac{k\\pi}{n})}\n",
    "$$\n"
   ]
  },
  {
   "cell_type": "markdown",
   "id": "eac958ca",
   "metadata": {},
   "source": [
    "Second, we have that \n",
    "$$\n",
    "\\prod_{\\substack{j=0 \\\\ j\\neq k}}^{n}\\sin(\\frac{(k-j)}{2n}\\pi)\n",
    "=(-1)^{n-k} \\displaystyle\\prod_{m=1}^{k} \\sin(\\frac{m\\pi}{2n})\n",
    "            \\displaystyle\\prod_{m=1}^{n-k} \\sin(\\frac{m\\pi}{2n})\n",
    "$$\n",
    "\n",
    "---"
   ]
  },
  {
   "cell_type": "markdown",
   "id": "4700fbef",
   "metadata": {},
   "source": [
    "Since $$\\displaystyle\\prod^{n-1}_{m=1}\\sin(\\frac{m\\pi}{n})=\\frac{n}{2^{n-1}}$$ and $$\\displaystyle\\prod^{n-1}_{m=1}\\sin(\\frac{m\\pi}{2n})=\\frac{\\sqrt{n}}{2^{n-1}}$$"
   ]
  },
  {
   "cell_type": "markdown",
   "id": "90111598",
   "metadata": {},
   "source": [
    "We can rewrite $\\omega_k$ as \n",
    "$$\\frac{1}{\\omega_k}=(-1)^k\\frac{n}{2^{n-1}}.\n",
    "\\Rightarrow \\omega_k=(-1)^k\\frac{2^{n-1}}{n}\n",
    "$$\n",
    "And hance $\\omega_0=\\frac{1}{2}$, $\\omega_n=\\frac{(-1)^n}{2}\\ \\ \\square$.  \n",
    "Since $\\frac{2^{n-1}}{n}$ is a constant for some $n$, we can rescale $\\omega_k$ for $k=1,...,n-1$ by multiplying $\\frac{n}{2^{n-1}}$ and get $$\\frac{1}{\\omega_k}=(-1)^k .$$\n",
    "\n",
    "Therefore, $\\frac{1}{\\omega_k}=(-1)^k$ for $1\\leq k\\leq n-1$."
   ]
  },
  {
   "cell_type": "markdown",
   "id": "eb6ea1e8",
   "metadata": {},
   "source": [
    "$\\blacksquare$"
   ]
  },
  {
   "cell_type": "markdown",
   "id": "9c4f7184",
   "metadata": {},
   "source": [
    "# Appendix: Sine function product identity\n",
    "Note: This part is an appendix. Reference: [THE SINE PRODUCT FORMULA AND THE GAMMA FUNCTION](chrome-extension://efaidnbmnnnibpcajpcglclefindmkaj/https://ocw.mit.edu/courses/18-104-seminar-in-analysis-applications-to-number-theory-fall-2006/58778de0faae6448c3b0bfb1a1ec4f7a_chan.pdf).  \n",
    "And we also note that this part has been clearfied the grammer by chatGPT."
   ]
  },
  {
   "cell_type": "markdown",
   "id": "69bdcf61",
   "metadata": {},
   "source": [
    "### Derivation: Sine Product Identity\n",
    "\n",
    "We want to prove\n",
    "$$\n",
    "\\prod_{m=1}^{n-1}\\sin\\!\\left(\\frac{m\\pi}{n}\\right) = \\frac{n}{2^{\\,n-1}}.\n",
    "$$\n",
    "\n",
    "---\n",
    "\n",
    "Consider the equation\n",
    "$$\n",
    "z^n - 1 = 0,\n",
    "$$\n",
    "whose solutions are\n",
    "$$\n",
    "\\zeta_k = e^{i 2\\pi k/n}, \\quad k=0,1,\\dots,n-1.\n",
    "$$\n",
    "\n",
    "Thus,\n",
    "$$\n",
    "z^n - 1 = \\prod_{k=0}^{n-1}(z - \\zeta_k).\n",
    "$$\n",
    "\n",
    "---\n",
    "\n",
    "\n",
    "Setting $z=1$, we obtain\n",
    "$$\n",
    "n = \\prod_{k=1}^{n-1}(1 - \\zeta_k).\n",
    "$$\n",
    "\n",
    "---\n",
    "\n",
    "Compute\n",
    "$$\n",
    "1 - e^{i 2\\pi k/n}\n",
    "= e^{i\\pi k/n}\\left(e^{-i\\pi k/n} - e^{i\\pi k/n}\\right)\n",
    "= -2i e^{i\\pi k/n}\\sin\\!\\left(\\tfrac{\\pi k}{n}\\right).\n",
    "$$\n",
    "\n",
    "So,\n",
    "$$\n",
    "n = \\prod_{k=1}^{n-1}\\left(-2i e^{i\\pi k/n}\\sin\\!\\left(\\tfrac{\\pi k}{n}\\right)\\right).\n",
    "$$\n",
    "\n",
    "---\n",
    "\n",
    "Taking absolute values gives\n",
    "$$\n",
    "n = \\prod_{k=1}^{n-1}\\Big| -2i e^{i\\pi k/n}\\sin\\!\\left(\\tfrac{\\pi k}{n}\\right)\\Big|\n",
    "= \\prod_{k=1}^{n-1} 2\\sin\\!\\left(\\tfrac{\\pi k}{n}\\right).\n",
    "$$\n",
    "\n",
    "---\n",
    "\n",
    "Therefore,\n",
    "$$\n",
    "n = 2^{\\,n-1}\\prod_{m=1}^{n-1}\\sin\\!\\left(\\frac{m\\pi}{n}\\right),\n",
    "$$\n",
    "which is equivalent to\n",
    "$$\n",
    "\\prod_{m=1}^{n-1}\\sin\\!\\left(\\frac{m\\pi}{n}\\right) = \\frac{n}{2^{\\,n-1}}.\n",
    "$$\n"
   ]
  },
  {
   "cell_type": "markdown",
   "id": "f3e7194a",
   "metadata": {},
   "source": [
    "$\\blacksquare$"
   ]
  },
  {
   "cell_type": "markdown",
   "id": "1aadbbf7",
   "metadata": {},
   "source": []
  }
 ],
 "metadata": {
  "language_info": {
   "name": "python"
  }
 },
 "nbformat": 4,
 "nbformat_minor": 5
}
