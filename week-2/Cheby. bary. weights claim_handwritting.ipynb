{
 "cells": [
  {
   "cell_type": "markdown",
   "id": "8d33c566",
   "metadata": {},
   "source": [
    "# Claim:\n",
    "For $n+1$ Chebyshev points of the second kind\n",
    "$$\n",
    "x_j = \\cos\\!\\left(\\frac{j\\pi}{n}\\right), \\quad j=0,1,\\dots,n,\n",
    "$$\n",
    "the barycentric weights (after rescaling) are\n",
    "$$\n",
    "w_i = (-1)^i, \\quad i=1,\\dots,n-1,\n",
    "$$\n",
    "and\n",
    "$$\n",
    "w_0 = \\tfrac{1}{2}, \\quad w_n = \\frac{(-1)^n}{2}.\n",
    "$$"
   ]
  },
  {
   "cell_type": "markdown",
   "id": "9706e8fd",
   "metadata": {},
   "source": [
    "## steps"
   ]
  },
  {
   "cell_type": "markdown",
   "id": "65a7548f",
   "metadata": {},
   "source": [
    "The barycentric weights are defined by\n",
    "$$\n",
    "w_i = \\frac{1}{\\displaystyle\\prod_{\\substack{j=0 \\\\ j\\neq i}}^n (x_i - x_j)}.\n",
    "$$\n",
    "\n",
    "The nodes are\n",
    "$$\n",
    "x_j = \\cos\\!\\left(\\frac{j}{n}\\pi\\right),\n",
    "$$\n",
    "for all $j=1,...,n$.\n",
    "\n",
    "They are closely related to the Chebyshev polynomial of the second kind:\n",
    "$$\n",
    "U_n(\\cos\\theta) = \\frac{\\sin((n+1)\\theta)}{\\sin\\theta},\n",
    "$$\n",
    "whose zeros are precisely the interior Chebyshev points."
   ]
  },
  {
   "cell_type": "markdown",
   "id": "ad22cfc0",
   "metadata": {},
   "source": [
    "We use the **fact**(see the appendix 1.) that\n",
    "$$\n",
    "\\prod_{j=0}^n (x - x_j) \\;\\propto\\; (1-x^2)\\, U_{n-1}(x).\n",
    "$$\n",
    "\n",
    "Differentiating and evaluating at $x = x_i$ allows us to compute\n",
    "$$\n",
    "w_i \\propto \\frac{1}{\\prod_{j\\neq i}(x_i - x_j)}.\n",
    "$$\n"
   ]
  },
  {
   "cell_type": "markdown",
   "id": "2cf8bf19",
   "metadata": {},
   "source": [
    "### result for the weights:\n",
    "\n",
    "Carrying out the calculation yields:\n",
    "- For interior points $i=1,\\dots,n-1$,\n",
    "$$\n",
    "w_i \\propto (-1)^i.\n",
    "$$\n",
    "\n",
    "- For endpoints,\n",
    "$$\n",
    "w_0 \\propto \\tfrac{1}{2}, \n",
    "\\qquad\n",
    "w_n \\propto \\tfrac{(-1)^n}{2}.\n",
    "$$\n"
   ]
  },
  {
   "cell_type": "markdown",
   "id": "b8063e19",
   "metadata": {},
   "source": [
    "### rescaling:\n",
    "Since barycentric weights are only determined up to a multiplicative constant, we can normalize them to obtain:\n",
    "$$\n",
    "w_i = (-1)^i, \\quad i=1,\\dots,n-1,\n",
    "$$\n",
    "and\n",
    "$$\n",
    "w_0 = \\tfrac{1}{2}, \\quad w_n = \\frac{(-1)^n}{2}.\n",
    "$$\n",
    "$\\blacksquare$"
   ]
  },
  {
   "cell_type": "markdown",
   "id": "eba604d0",
   "metadata": {},
   "source": [
    "### Appendix 1.\n"
   ]
  },
  {
   "cell_type": "markdown",
   "id": "5634be16",
   "metadata": {},
   "source": [
    "#### 1. Chebyshev points of Second kind\n",
    "The nodes are $$x_j=\\cos(\\frac{j}{n}\\pi),\\ \\ j=0,1,...,n.$$\n",
    "They include both of the end nodes $x_0=1$, $x_n=-1$, and the $(n-1)$ interior points."
   ]
  },
  {
   "cell_type": "markdown",
   "id": "01b904d8",
   "metadata": {},
   "source": [
    "#### 2. Chebyshev polynomial of Second kind \n",
    "From the definition, $$U_m(\\cos(\\theta))=\\frac{\\sin((m+1)\\theta)}{\\sin(\\theta)}$$ is the poly. with degree $m$.\n",
    "And its zero points are $\\cos(\\frac{k}{m+1}\\pi),\\ \\ k=1,...,m$"
   ]
  },
  {
   "cell_type": "markdown",
   "id": "0bd27c55",
   "metadata": {},
   "source": [
    "#### Claim:\n",
    "From the above, we take $m=n-1$, then we can notice that \n",
    "    $$U_{n-1}(x)=0 \\Leftrightarrow x=\\cos(\\frac{k}{n}\\pi),\\ \\ k=1,...,n-1.$$\n",
    "That is, **the zero points of $U_{n-1}(x)$ are the interior points $x_1, ..., x_{n-1}$.**"
   ]
  },
  {
   "cell_type": "markdown",
   "id": "6f2bf3c5",
   "metadata": {},
   "source": [
    "Since the zero point of $(1-x^2)$ are $x_0=1$ and $x_m=-1$, we can see the zero points of $(1-x^2) U_{n-1}(x)$ are all the $(n+1)$-nodes $\\{x_0, x_1,...,x_n\\}$.\n",
    "\n",
    "Hence, we must have $$\\prod_{j=0}^n (x - x_j) \\;\\propto\\; (1-x^2)\\, U_{n-1}(x).$$\n",
    "$\\square$"
   ]
  },
  {
   "cell_type": "markdown",
   "id": "164bd3a5",
   "metadata": {},
   "source": []
  }
 ],
 "metadata": {
  "language_info": {
   "name": "python"
  }
 },
 "nbformat": 4,
 "nbformat_minor": 5
}
